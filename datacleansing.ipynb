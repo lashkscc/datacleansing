{
 "cells": [
  {
   "cell_type": "markdown",
   "metadata": {},
   "source": [
    "Requirements\n",
    "\n",
    "We will be creating a new dataset from the data in 'assignment_seven.csv' that applies the following criteria:\n",
    "\n",
    "* we must remove all real names from the dataset\n",
    "* If there is a missing entry for any field in a given row, remove that row from the dataset\n",
    "* Output a new dataset file called 'output.csv', which you will attach to this assignment for submission\n",
    "\n",
    " \n",
    "\n",
    "[EXTRA CREDIT] \n",
    "* discover and rank the top five products that customers bought\n",
    "* Extra, extra credit: create a visualization of the ranking"
   ]
  },
  {
   "cell_type": "code",
   "execution_count": 13,
   "metadata": {},
   "outputs": [
    {
     "data": {
      "text/html": [
       "<div>\n",
       "<style scoped>\n",
       "    .dataframe tbody tr th:only-of-type {\n",
       "        vertical-align: middle;\n",
       "    }\n",
       "\n",
       "    .dataframe tbody tr th {\n",
       "        vertical-align: top;\n",
       "    }\n",
       "\n",
       "    .dataframe thead th {\n",
       "        text-align: right;\n",
       "    }\n",
       "</style>\n",
       "<table border=\"1\" class=\"dataframe\">\n",
       "  <thead>\n",
       "    <tr style=\"text-align: right;\">\n",
       "      <th></th>\n",
       "      <th>transaction_id</th>\n",
       "      <th>transaction_date</th>\n",
       "      <th>full_name</th>\n",
       "      <th>record_id</th>\n",
       "      <th>products</th>\n",
       "    </tr>\n",
       "  </thead>\n",
       "  <tbody>\n",
       "    <tr>\n",
       "      <th>0</th>\n",
       "      <td>1</td>\n",
       "      <td>7/19/2021</td>\n",
       "      <td>Izzy Janssens</td>\n",
       "      <td>1df9f42a-8c0f-4e3d-aeca-5bd310dd277a</td>\n",
       "      <td>TERBUTALINE SULFATE</td>\n",
       "    </tr>\n",
       "    <tr>\n",
       "      <th>1</th>\n",
       "      <td>2</td>\n",
       "      <td>9/25/2021</td>\n",
       "      <td>Timmy Sanches</td>\n",
       "      <td>afaf2462-41b1-43dc-8702-264cf2a6ade0</td>\n",
       "      <td>Fentanyl</td>\n",
       "    </tr>\n",
       "    <tr>\n",
       "      <th>2</th>\n",
       "      <td>3</td>\n",
       "      <td>10/7/2021</td>\n",
       "      <td>Skyler Rawlcliffe</td>\n",
       "      <td>34528325-deb3-4deb-9107-12a89f5d1cfc</td>\n",
       "      <td>Lorazepam</td>\n",
       "    </tr>\n",
       "    <tr>\n",
       "      <th>3</th>\n",
       "      <td>4</td>\n",
       "      <td>5/26/2022</td>\n",
       "      <td>Torrance Petteford</td>\n",
       "      <td>6e379186-e61e-4926-ad03-0ac7759d7fab</td>\n",
       "      <td>risperidone</td>\n",
       "    </tr>\n",
       "    <tr>\n",
       "      <th>4</th>\n",
       "      <td>5</td>\n",
       "      <td>12/17/2021</td>\n",
       "      <td>Bendite Fardon</td>\n",
       "      <td>b0eb4c68-5737-4076-856d-7eacf2e6014d</td>\n",
       "      <td>Oxygen</td>\n",
       "    </tr>\n",
       "  </tbody>\n",
       "</table>\n",
       "</div>"
      ],
      "text/plain": [
       "   transaction_id transaction_date           full_name  \\\n",
       "0               1        7/19/2021       Izzy Janssens   \n",
       "1               2        9/25/2021       Timmy Sanches   \n",
       "2               3        10/7/2021   Skyler Rawlcliffe   \n",
       "3               4        5/26/2022  Torrance Petteford   \n",
       "4               5       12/17/2021      Bendite Fardon   \n",
       "\n",
       "                              record_id             products  \n",
       "0  1df9f42a-8c0f-4e3d-aeca-5bd310dd277a  TERBUTALINE SULFATE  \n",
       "1  afaf2462-41b1-43dc-8702-264cf2a6ade0             Fentanyl  \n",
       "2  34528325-deb3-4deb-9107-12a89f5d1cfc            Lorazepam  \n",
       "3  6e379186-e61e-4926-ad03-0ac7759d7fab          risperidone  \n",
       "4  b0eb4c68-5737-4076-856d-7eacf2e6014d               Oxygen  "
      ]
     },
     "execution_count": 13,
     "metadata": {},
     "output_type": "execute_result"
    }
   ],
   "source": [
    "import pandas as pd\n",
    "import matplotlib as plt \n",
    "df = pd.read_csv('assignment_seven.csv')\n",
    "df.head()"
   ]
  },
  {
   "cell_type": "markdown",
   "metadata": {},
   "source": [
    "We'll drop the names, then any n/a's"
   ]
  },
  {
   "cell_type": "code",
   "execution_count": 14,
   "metadata": {},
   "outputs": [
    {
     "data": {
      "text/html": [
       "<div>\n",
       "<style scoped>\n",
       "    .dataframe tbody tr th:only-of-type {\n",
       "        vertical-align: middle;\n",
       "    }\n",
       "\n",
       "    .dataframe tbody tr th {\n",
       "        vertical-align: top;\n",
       "    }\n",
       "\n",
       "    .dataframe thead th {\n",
       "        text-align: right;\n",
       "    }\n",
       "</style>\n",
       "<table border=\"1\" class=\"dataframe\">\n",
       "  <thead>\n",
       "    <tr style=\"text-align: right;\">\n",
       "      <th></th>\n",
       "      <th>transaction_id</th>\n",
       "      <th>transaction_date</th>\n",
       "      <th>record_id</th>\n",
       "      <th>products</th>\n",
       "    </tr>\n",
       "  </thead>\n",
       "  <tbody>\n",
       "    <tr>\n",
       "      <th>0</th>\n",
       "      <td>1</td>\n",
       "      <td>7/19/2021</td>\n",
       "      <td>1df9f42a-8c0f-4e3d-aeca-5bd310dd277a</td>\n",
       "      <td>TERBUTALINE SULFATE</td>\n",
       "    </tr>\n",
       "    <tr>\n",
       "      <th>1</th>\n",
       "      <td>2</td>\n",
       "      <td>9/25/2021</td>\n",
       "      <td>afaf2462-41b1-43dc-8702-264cf2a6ade0</td>\n",
       "      <td>Fentanyl</td>\n",
       "    </tr>\n",
       "    <tr>\n",
       "      <th>2</th>\n",
       "      <td>3</td>\n",
       "      <td>10/7/2021</td>\n",
       "      <td>34528325-deb3-4deb-9107-12a89f5d1cfc</td>\n",
       "      <td>Lorazepam</td>\n",
       "    </tr>\n",
       "    <tr>\n",
       "      <th>3</th>\n",
       "      <td>4</td>\n",
       "      <td>5/26/2022</td>\n",
       "      <td>6e379186-e61e-4926-ad03-0ac7759d7fab</td>\n",
       "      <td>risperidone</td>\n",
       "    </tr>\n",
       "    <tr>\n",
       "      <th>4</th>\n",
       "      <td>5</td>\n",
       "      <td>12/17/2021</td>\n",
       "      <td>b0eb4c68-5737-4076-856d-7eacf2e6014d</td>\n",
       "      <td>Oxygen</td>\n",
       "    </tr>\n",
       "  </tbody>\n",
       "</table>\n",
       "</div>"
      ],
      "text/plain": [
       "   transaction_id transaction_date                             record_id  \\\n",
       "0               1        7/19/2021  1df9f42a-8c0f-4e3d-aeca-5bd310dd277a   \n",
       "1               2        9/25/2021  afaf2462-41b1-43dc-8702-264cf2a6ade0   \n",
       "2               3        10/7/2021  34528325-deb3-4deb-9107-12a89f5d1cfc   \n",
       "3               4        5/26/2022  6e379186-e61e-4926-ad03-0ac7759d7fab   \n",
       "4               5       12/17/2021  b0eb4c68-5737-4076-856d-7eacf2e6014d   \n",
       "\n",
       "              products  \n",
       "0  TERBUTALINE SULFATE  \n",
       "1             Fentanyl  \n",
       "2            Lorazepam  \n",
       "3          risperidone  \n",
       "4               Oxygen  "
      ]
     },
     "execution_count": 14,
     "metadata": {},
     "output_type": "execute_result"
    }
   ],
   "source": [
    "dc = df.drop(['full_name'], axis=1)\n",
    "\n",
    "dc = dc.dropna()\n",
    "\n",
    "dc.head()"
   ]
  },
  {
   "cell_type": "code",
   "execution_count": 15,
   "metadata": {},
   "outputs": [],
   "source": [
    "dc.to_csv('cleansed.csv')"
   ]
  },
  {
   "cell_type": "markdown",
   "metadata": {},
   "source": [
    "Extra credit:\n",
    "discover and rank the top five products that customers bought, plot the top 5. \n",
    "Start by isolating our products ordered and checking what we have."
   ]
  },
  {
   "cell_type": "code",
   "execution_count": 16,
   "metadata": {},
   "outputs": [
    {
     "data": {
      "text/plain": [
       "0                           TERBUTALINE SULFATE\n",
       "1                                      Fentanyl\n",
       "2                                     Lorazepam\n",
       "3                                   risperidone\n",
       "4                                        Oxygen\n",
       "5                                  Levofloxacin\n",
       "6     yellow jacket hymenoptera venom multidose\n",
       "7         Amoxicillin and Clavulanate Potassium\n",
       "8                            POTASSIUM CHLORIDE\n",
       "9                                   Simvastatin\n",
       "10                                    Triclosan\n",
       "12        Glipizide and Metformin Hydrochloride\n",
       "13                  Medroxyprogesterone Acetate\n",
       "14                                Chloroxylenol\n",
       "15                            Phenylephrine HCl\n",
       "16                                Chlorzoxazone\n",
       "17          Levmetamfetamine Nasal Decongestant\n",
       "18                                       Oxygen\n",
       "19                                 Azathioprine\n",
       "20    Chelidonium majus, Echinacea angustifolia\n",
       "Name: products, dtype: object"
      ]
     },
     "execution_count": 16,
     "metadata": {},
     "output_type": "execute_result"
    }
   ],
   "source": [
    "orders = dc['products']\n",
    "\n",
    "orders.head(20)"
   ]
  },
  {
   "cell_type": "markdown",
   "metadata": {},
   "source": [
    "From what we have, I'm going to make the assumption that our dataset are orders by patients from a pharmacy. The order records seem to be mixed in single item orders and multiple item orders delimited by ','. Some entries have 'and' but that seems to be part of the name of product, such as 'Glipizide and Metformin Hydrochloride' which is single diabetes medication or 'Amoxicillin and Clavulanate Potassium' which is another single anti-infection medication.\n",
    "\n",
    "__Assuming onwards that multiple products will be delimited by commas and not 'and'.__\n",
    "\n",
    "Procedure\n",
    "* split df between orders with single product orders (spo) and those with multiple products (mpo)\n",
    "* convert mpo into spo format by splitting on delimiter and then exploding\n",
    "* append exploded mpo onto spo\n",
    "* convert all entries to lowercase to \n",
    "* count occurences with value_counts() and plot"
   ]
  },
  {
   "cell_type": "code",
   "execution_count": 17,
   "metadata": {},
   "outputs": [],
   "source": [
    "spo = orders[~orders.str.contains(', ')]\n",
    "mpo = orders[orders.str.contains(', ')]\n",
    "\n",
    "mpoconverted = mpo.str.split(pat=', ').explode()\n",
    "\n",
    "total = pd.concat([spo, mpoconverted], ignore_index=True)\n",
    "total = total.str.lower()"
   ]
  },
  {
   "cell_type": "code",
   "execution_count": 18,
   "metadata": {},
   "outputs": [
    {
     "name": "stdout",
     "output_type": "stream",
     "text": [
      "octinoxate          35\n",
      "acetaminophen       34\n",
      "titanium dioxide    29\n",
      "avobenzone          19\n",
      "alcohol             18\n",
      "Name: products, dtype: int64\n"
     ]
    },
    {
     "data": {
      "text/plain": [
       "<AxesSubplot:>"
      ]
     },
     "execution_count": 18,
     "metadata": {},
     "output_type": "execute_result"
    },
    {
     "data": {
      "image/png": "[encoded data removed]",
      "text/plain": [
       "<Figure size 432x288 with 1 Axes>"
      ]
     },
     "metadata": {
      "needs_background": "light"
     },
     "output_type": "display_data"
    }
   ],
   "source": [
    "print(total.value_counts()[:5])\n",
    "total.value_counts()[:5].plot(kind='barh')"
   ]
  }
 ],
 "metadata": {
  "interpreter": {
   "hash": "b67ee63230c4733767196eda405c7386d475551f0fa2453dae5a86aa270aaa74"
  },
  "kernelspec": {
   "display_name": "Python 3.10.4 ('.venv': poetry)",
   "language": "python",
   "name": "python3"
  },
  "language_info": {
   "codemirror_mode": {
    "name": "ipython",
    "version": 3
   },
   "file_extension": ".py",
   "mimetype": "text/x-python",
   "name": "python",
   "nbconvert_exporter": "python",
   "pygments_lexer": "ipython3",
   "version": "3.10.4"
  },
  "orig_nbformat": 4
 },
 "nbformat": 4,
 "nbformat_minor": 2
}
